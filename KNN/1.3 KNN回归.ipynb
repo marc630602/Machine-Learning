{
 "cells": [
  {
   "cell_type": "code",
   "execution_count": 1,
   "metadata": {},
   "outputs": [],
   "source": [
    "import numpy as np\n",
    "import sklearn.datasets\n",
    "from sklearn.neighbors import KNeighborsRegressor #回归\n",
    "import matplotlib.pyplot as plt\n",
    "from matplotlib.colors import ListedColormap #绘图引用模块\n",
    "%matplotlib inline"
   ]
  },
  {
   "cell_type": "code",
   "execution_count": 48,
   "metadata": {},
   "outputs": [
    {
     "data": {
      "text/plain": [
       "array([ 0.02359209,  0.0284387 ,  0.07620092,  0.10201787,  0.18137089,\n",
       "        0.22243508,  0.29524309,  0.42802005,  0.44419721,  0.50185185,\n",
       "        0.51575139,  0.52604169,  0.57110029,  0.63153622,  0.65410711,\n",
       "        0.7576501 ,  0.76306362,  0.76885738,  0.77732656,  0.79960736,\n",
       "        0.84180475,  0.85301028,  0.86543132,  0.86748934,  0.89052026,\n",
       "        0.92779963,  0.94338098,  0.95007499,  0.95274011,  0.95548155,\n",
       "        0.97998154,  0.98257178,  0.98403124,  0.99003124,  0.99623285,\n",
       "        0.99997116,  0.99998507,  0.99426109,  0.99398204,  0.99154182,\n",
       "        0.9914148 ,  0.97942951,  0.97440378,  0.97010246,  0.95727654,\n",
       "        0.95219133,  0.94311398,  0.93303609,  0.9193452 ,  0.85158669,\n",
       "        0.83220448,  0.75568343,  0.73393852,  0.57649737,  0.56307182,\n",
       "        0.48066819,  0.42555018,  0.41192712,  0.40608723,  0.2629958 ,\n",
       "        0.25426259,  0.23029585,  0.17663402,  0.15114278,  0.14684286,\n",
       "        0.14676586,  0.12974258,  0.12226329, -0.00811664, -0.00932689,\n",
       "       -0.02858687, -0.06387013, -0.14600756, -0.15251021, -0.21056489,\n",
       "       -0.49245749, -0.54031027, -0.58926783, -0.64725909, -0.74244977,\n",
       "       -0.77433281, -0.79367297, -0.80728145, -0.81146478, -0.83474588,\n",
       "       -0.8830339 , -0.90026715, -0.95877906, -0.96630479, -0.96647752,\n",
       "       -0.96746645, -0.99906778, -0.99992509, -0.99980968, -0.99736041,\n",
       "       -0.99272947, -0.98680268, -0.98371275, -0.98158345, -0.96930673])"
      ]
     },
     "execution_count": 48,
     "metadata": {},
     "output_type": "execute_result"
    }
   ],
   "source": [
    "np.random.seed(100)\n",
    "x = np.sort(5*np.random.rand(100,1),axis=0)\n",
    "y = np.sin(x).ravel()\n"
   ]
  },
  {
   "cell_type": "code",
   "execution_count": 51,
   "metadata": {},
   "outputs": [],
   "source": [
    "y[::5] += 1*(0.5-np.random.rand(20))"
   ]
  },
  {
   "cell_type": "code",
   "execution_count": 52,
   "metadata": {},
   "outputs": [],
   "source": [
    "x_test = np.linspace(0,5,10000)[:,np.newaxis]"
   ]
  },
  {
   "cell_type": "code",
   "execution_count": 53,
   "metadata": {},
   "outputs": [
    {
     "data": {
      "text/plain": [
       "KNeighborsRegressor(algorithm='auto', leaf_size=30, metric='minkowski',\n",
       "          metric_params=None, n_jobs=1, n_neighbors=10, p=2,\n",
       "          weights='uniform')"
      ]
     },
     "execution_count": 53,
     "metadata": {},
     "output_type": "execute_result"
    }
   ],
   "source": [
    "knn = KNeighborsRegressor(10)\n",
    "knn.fit(x,y)"
   ]
  },
  {
   "cell_type": "code",
   "execution_count": 54,
   "metadata": {},
   "outputs": [],
   "source": [
    "y_test = knn.predict(x_test)"
   ]
  },
  {
   "cell_type": "code",
   "execution_count": 55,
   "metadata": {},
   "outputs": [
    {
     "data": {
      "text/plain": [
       "<matplotlib.collections.PathCollection at 0x1eb0eca06d8>"
      ]
     },
     "execution_count": 55,
     "metadata": {},
     "output_type": "execute_result"
    },
    {
     "data": {
      "image/png": "[encoded data removed]",
      "text/plain": [
       "<Figure size 432x288 with 1 Axes>"
      ]
     },
     "metadata": {},
     "output_type": "display_data"
    }
   ],
   "source": [
    "plt.scatter(x_test,y_test)"
   ]
  },
  {
   "cell_type": "code",
   "execution_count": 89,
   "metadata": {},
   "outputs": [],
   "source": [
    "import pandas as pd\n",
    "data = pd.read_csv(\"C:\\\\Users\\\\57621\\\\MachineLearning\\\\KNN\\\\adult.txt\",header=None)\n",
    "data.columns = ['age', 'workclass', 'final_weight', 'education', 'education_num', 'marital_status', 'occupation', 'relationship', 'race', 'sex', 'capital_gain', 'capital_loss', 'hours_per_week', 'native_country', 'salary']"
   ]
  },
  {
   "cell_type": "code",
   "execution_count": 86,
   "metadata": {},
   "outputs": [],
   "source": [
    "knn = KNeighborsRegressor(100)"
   ]
  },
  {
   "cell_type": "code",
   "execution_count": 99,
   "metadata": {},
   "outputs": [],
   "source": [
    "def edu2float(edu): #任何学历返回一个数字代表\n",
    "    return np.argwhere(data[\"education\"].unique() == edu)[0,0]\n",
    "def occupation2float(occupation): #任何职业返回一个数字代表\n",
    "    return np.argwhere(data[\"occupation\"].unique() == occupation)[0,0]\n",
    "data[\"occupation\"] = data[\"occupation\"].map(occupation2float)\n",
    "data[\"education\"] = data[\"education\"].map(edu2float)"
   ]
  },
  {
   "cell_type": "code",
   "execution_count": null,
   "metadata": {},
   "outputs": [],
   "source": [
    "from sklearn.model_selection import train_test_split\n",
    "x_train,x_test,y_train,y_test=train_test_split(data[['age','education','occupation','hours_per_week']],data['salary'],train_size=0.5)"
   ]
  },
  {
   "cell_type": "code",
   "execution_count": null,
   "metadata": {},
   "outputs": [],
   "source": []
  }
 ],
 "metadata": {
  "kernelspec": {
   "display_name": "Python 3",
   "language": "python",
   "name": "python3"
  },
  "language_info": {
   "codemirror_mode": {
    "name": "ipython",
    "version": 3
   },
   "file_extension": ".py",
   "mimetype": "text/x-python",
   "name": "python",
   "nbconvert_exporter": "python",
   "pygments_lexer": "ipython3",
   "version": "3.6.5"
  }
 },
 "nbformat": 4,
 "nbformat_minor": 2
}
