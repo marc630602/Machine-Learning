{
 "cells": [
  {
   "cell_type": "code",
   "execution_count": 1,
   "metadata": {},
   "outputs": [],
   "source": [
    "import matplotlib.pyplot as plt\n",
    "import numpy as np"
   ]
  },
  {
   "cell_type": "code",
   "execution_count": 3,
   "metadata": {},
   "outputs": [],
   "source": [
    "def Gradient_Ascent_test():\n",
    "    #f(x)的导数\n",
    "    def f_prime(x_old):                                 \n",
    "        return -2 * x_old + 4\n",
    "    #初始值，给一个小于x_new的值\n",
    "    x_old = -1    \n",
    "    #梯度上升算法初始值，即从(0,0)开始\n",
    "    x_new = 0                                           \n",
    "    #步长，也就是学习速率，控制更新的幅度\n",
    "    alpha = 0.01                                        \n",
    "    #精度，也就是更新阈值\n",
    "    presision = 0.00000001                              \n",
    "    \n",
    "    while abs(x_new - x_old) > presision:\n",
    "        x_old = x_new\n",
    "        x_new = x_old + alpha * f_prime(x_old)          \n",
    "    #打印最终求解的极值近似值\n",
    "    print(x_new)                                        "
   ]
  },
  {
   "cell_type": "code",
   "execution_count": 4,
   "metadata": {},
   "outputs": [],
   "source": [
    "def loadDataSet():\n",
    "    #创建数据列表\n",
    "    dataMat = []\n",
    "    #创建标签列表\n",
    "    labelMat = []\n",
    "    #打开文件\n",
    "    fr = open('testSet.txt')\n",
    "    for line in fr.readlines():\n",
    "        #去回车，放入列表\n",
    "        lineArr = line.strip().split()\n",
    "        #添加数据\n",
    "        dataMat.append([1.0, float(lineArr[0]), float(lineArr[1])])\n",
    "        #添加标签\n",
    "        labelMat.append(int(lineArr[2]))\n",
    "    #关闭文件\n",
    "    fr.close()\n",
    "    return dataMat, labelMat"
   ]
  },
  {
   "cell_type": "code",
   "execution_count": 5,
   "metadata": {},
   "outputs": [],
   "source": [
    "def sigmoid(inX):\n",
    "    return 1.0 / (1 + np.exp(-inX))"
   ]
  },
  {
   "cell_type": "code",
   "execution_count": 6,
   "metadata": {},
   "outputs": [],
   "source": [
    "def gradAscent(dataMatIn, classLabels):\n",
    "    #转换成numpy的mat\n",
    "    dataMatrix = np.mat(dataMatIn)\t\t\t\t\t\t\t\t\t\t\n",
    "    #转换成numpy的mat,并进行转置\n",
    "    labelMat = np.mat(classLabels).transpose()\t\t\t\t\t\t\t\n",
    "    #返回dataMatrix的大小。m为行数,n为列数。\n",
    "    m, n = np.shape(dataMatrix)\t\t\t\t\t\t\t\t\t\t\t\n",
    "    #移动步长,也就是学习速率,控制更新的幅度。\n",
    "    alpha = 0.001\t\t\t\t\t\t\t\t\t\t\t\t\t\t\n",
    "    #最大迭代次数\n",
    "    maxCycles = 500\t\t\t\t\t\t\t\t\t\t\t\t\t\t\n",
    "    weights = np.ones((n,1))\n",
    "    for k in range(maxCycles):\n",
    "        #梯度上升矢量化公式\n",
    "        h = sigmoid(dataMatrix * weights)\t\t\t\t\t\t\t\t\n",
    "        error = labelMat - h\n",
    "        weights = weights + alpha * dataMatrix.transpose() * error\n",
    "    return weights.getA()"
   ]
  },
  {
   "cell_type": "code",
   "execution_count": null,
   "metadata": {},
   "outputs": [],
   "source": [
    "def plotBestFit(weights):\n",
    "    #加载数据集\n",
    "    dataMat, labelMat = loadDataSet()\n",
    "    #转换成numpy的array数组\n",
    "    dataArr = np.array(dataMat)\n",
    "    n = np.shape(dataMat)[0]\n",
    "    xcord1 = []; ycord1 = []\n",
    "    xcord2 = []; ycord2 = []\n",
    "    #根据数据集标签进行分类\n",
    "    for i in range(n):\n",
    "        if int(labelMat[i]) == 1:\n",
    "            xcord1.append(dataArr[i,1]); ycord1.append(dataArr[i,2])\n",
    "        else:\n",
    "            xcord2.append(dataArr[i,1]); ycord2.append(dataArr[i,2])\n",
    "    fig = plt.figure()\n",
    "    ax = fig.add_subplot(111)\n",
    "    #绘制正样本\n",
    "    ax.scatter(xcord1, ycord1, s = 20, c = 'red', marker = 's',alpha=.5)\n",
    "    #绘制负样本\n",
    "    ax.scatter(xcord2, ycord2, s = 20, c = 'green',alpha=.5)\\\n",
    "    x = np.arange(-3.0, 3.0, 0.1)\n",
    "    y = (-weights[0] - weights[1] * x) / weights[2]\n",
    "    ax.plot(x, y)\n",
    "    plt.title('BestFit')\n",
    "    plt.xlabel('X1'); plt.ylabel('X2')\n",
    "    plt.show()\t\t"
   ]
  },
  {
   "cell_type": "code",
   "execution_count": null,
   "metadata": {},
   "outputs": [],
   "source": []
  }
 ],
 "metadata": {
  "kernelspec": {
   "display_name": "Python 3",
   "language": "python",
   "name": "python3"
  },
  "language_info": {
   "codemirror_mode": {
    "name": "ipython",
    "version": 3
   },
   "file_extension": ".py",
   "mimetype": "text/x-python",
   "name": "python",
   "nbconvert_exporter": "python",
   "pygments_lexer": "ipython3",
   "version": "3.7.3"
  }
 },
 "nbformat": 4,
 "nbformat_minor": 2
}
