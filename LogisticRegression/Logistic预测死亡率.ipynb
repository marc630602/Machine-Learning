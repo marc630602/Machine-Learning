{
 "cells": [
  {
   "cell_type": "code",
   "execution_count": 1,
   "metadata": {},
   "outputs": [],
   "source": [
    "from sklearn.linear_model import LogisticRegression\n",
    "import numpy as np\n",
    "import random"
   ]
  },
  {
   "cell_type": "code",
   "execution_count": 2,
   "metadata": {},
   "outputs": [],
   "source": [
    "def sigmoid(inX):\n",
    "    return 1.0 / (1 + np.exp(-inX))"
   ]
  },
  {
   "cell_type": "code",
   "execution_count": null,
   "metadata": {},
   "outputs": [],
   "source": [
    "def stocGradAscent1(dataMatrix, classLabels, numIter=150):\n",
    "    m,n = np.shape(dataMatrix)\t\t\t\t\t\t\t\t\t\t\t\t#返回dataMatrix的大小。m为行数,n为列数。\n",
    "    weights = np.ones(n)   \t\t\t\t\t\t\t\t\t\t\t\t\t#参数初始化\t\t\t\t\t\t\t\t\t\t#存储每次更新的回归系数\n",
    "    for j in range(numIter):\t\t\t\t\t\t\t\t\t\t\t\n",
    "        dataIndex = list(range(m))\n",
    "        for i in range(m):\t\t\t\n",
    "            alpha = 4/(1.0+j+i)+0.01   \t \t\t\t\t\t\t\t\t\t#降低alpha的大小，每次减小1/(j+i)。\n",
    "            randIndex = int(random.uniform(0,len(dataIndex)))\t\t\t\t#随机选取样本\n",
    "            h = sigmoid(sum(dataMatrix[randIndex]*weights))\t\t\t\t\t#选择随机选取的一个样本，计算h\n",
    "            error = classLabels[randIndex] - h \t\t\t\t\t\t\t\t#计算误差\n",
    "            weights = weights + alpha * error * dataMatrix[randIndex]   \t#更新回归系数\n",
    "            del(dataIndex[randIndex]) \t\t\t\t\t\t\t\t\t\t#删除已经使用的样本\n",
    "    return weights \t"
   ]
  },
  {
   "cell_type": "code",
   "execution_count": null,
   "metadata": {},
   "outputs": [],
   "source": [
    "#打开训练集\n",
    "frTrain = open('horseColicTraining.txt')\n",
    "#打开测试集\n",
    "frTest = open('horseColicTest.txt')"
   ]
  },
  {
   "cell_type": "code",
   "execution_count": null,
   "metadata": {},
   "outputs": [],
   "source": [
    "trainingSet = []; trainingLabels = []\n",
    "testSet = []; testLabels = []\n",
    "for line in frTrain.readlines():\n",
    "    currLine = line.strip().split('\\t')\n",
    "    lineArr = []\n",
    "    for i in range(len(currLine)-1):\n",
    "        lineArr.append(float(currLine[i]))\n",
    "        trainingSet.append(lineArr)\n",
    "        trainingLabels.append(float(currLine[-1]))\n",
    "for line in frTest.readlines():\n",
    "    currLine = line.strip().split('\\t')\n",
    "    lineArr =[]\n",
    "    for i in range(len(currLine)-1):\n",
    "        lineArr.append(float(currLine[i]))\n",
    "        testSet.append(lineArr)\n",
    "        testLabels.append(float(currLine[-1]))\n"
   ]
  },
  {
   "cell_type": "code",
   "execution_count": null,
   "metadata": {},
   "outputs": [],
   "source": [
    "classifier = LogisticRegression(solver = 'sag',max_iter = 5000).fit(trainingSet, trainingLabels)\n",
    "test_accurcy = classifier.score(testSet, testLabels) * 100\n",
    "print('正确率:%f%%' % test_accurcy)"
   ]
  }
 ],
 "metadata": {
  "kernelspec": {
   "display_name": "Python 3",
   "language": "python",
   "name": "python3"
  },
  "language_info": {
   "codemirror_mode": {
    "name": "ipython",
    "version": 3
   },
   "file_extension": ".py",
   "mimetype": "text/x-python",
   "name": "python",
   "nbconvert_exporter": "python",
   "pygments_lexer": "ipython3",
   "version": "3.7.3"
  }
 },
 "nbformat": 4,
 "nbformat_minor": 2
}
