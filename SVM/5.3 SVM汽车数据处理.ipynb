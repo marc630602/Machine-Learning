{
 "cells": [
  {
   "cell_type": "code",
   "execution_count": 65,
   "metadata": {},
   "outputs": [],
   "source": [
    "import numpy as np\n",
    "import pandas as pd\n",
    "from sklearn.svm import SVC\n",
    "from sklearn.svm import SVR\n",
    "import matplotlib.pyplot as plt\n",
    "import sklearn.datasets as datasets \n",
    "from matplotlib.colors import ListedColormap\n",
    "from sklearn.model_selection import train_test_split"
   ]
  },
  {
   "cell_type": "code",
   "execution_count": 61,
   "metadata": {},
   "outputs": [],
   "source": [
    "cars = pd.read_csv(\"C:\\\\Users\\\\57621\\\\MachineLearning\\\\SVM\\\\CarDatas.txt\",header=None,sep=\" \")\n",
    "columns = [\"price\", \"maint\", \"doors\", \"persons\", \"lug_boot\", \"safty\", \"recommend\"]\n",
    "cars.columns=columns"
   ]
  },
  {
   "cell_type": "code",
   "execution_count": 48,
   "metadata": {},
   "outputs": [],
   "source": [
    "price = {'vhigh':0,'high':1,'med':2,'low':3}\n",
    "doors = {'2':2,'3':3,'4':4,'5more':5}\n",
    "persons = {'2':2,'4':4,'more':6}\n",
    "maint = {'vhigh':0,'high':1,'med':2,'low':3}\n",
    "lug_boot = {'small':0,'med':1,'big':2}\n",
    "safty = {'high':0,'med':1,'low':2}\n",
    "recommend = {'unacc':0,'acc':1,'vgood':2,'good':3}"
   ]
  },
  {
   "cell_type": "code",
   "execution_count": 39,
   "metadata": {},
   "outputs": [
    {
     "data": {
      "text/plain": [
       "array(['2', '4', 'more'], dtype=object)"
      ]
     },
     "execution_count": 39,
     "metadata": {},
     "output_type": "execute_result"
    }
   ],
   "source": [
    "cars['persons'].unique()"
   ]
  },
  {
   "cell_type": "code",
   "execution_count": 62,
   "metadata": {},
   "outputs": [],
   "source": [
    "for i in columns:\n",
    "    \n",
    "    cars[i] =cars[i].map(eval(str(i)))\n"
   ]
  },
  {
   "cell_type": "code",
   "execution_count": 64,
   "metadata": {},
   "outputs": [],
   "source": [
    "svc_linear = SVC(kernel='linear')\n",
    "svc_rbf = SVC(kernel='rbf')\n",
    "svc_rbf = SVC(kernel='poly')"
   ]
  },
  {
   "cell_type": "code",
   "execution_count": 79,
   "metadata": {},
   "outputs": [
    {
     "name": "stderr",
     "output_type": "stream",
     "text": [
      "C:\\Program Files (x86)\\Microsoft Visual Studio\\Shared\\Anaconda3_64\\lib\\site-packages\\sklearn\\model_selection\\_split.py:2026: FutureWarning: From version 0.21, test_size will always complement train_size unless both are specified.\n",
      "  FutureWarning)\n"
     ]
    },
    {
     "name": "stdout",
     "output_type": "stream",
     "text": [
      "svc_linear accuracy score:0.8179190751445087\n",
      "svc_rbf accuracy score:0.9508670520231214\n",
      "svc_rbf accuracy score:0.9508670520231214\n"
     ]
    }
   ],
   "source": [
    "\n",
    "x_train,x_test,y_train,y_test = train_test_split(cars.iloc[:,:-1],cars.iloc[:,-1],train_size=0.8)\n",
    "\n",
    "for k in ['svc_linear','svc_rbf','svc_rbf']:\n",
    "    model = eval(k)\n",
    "    model.fit(x_train,y_train)\n",
    "    print(k+\" accuracy score : \"+ str(model.score(x_test,y_test)))\n",
    "    "
   ]
  },
  {
   "cell_type": "code",
   "execution_count": 68,
   "metadata": {},
   "outputs": [
    {
     "data": {
      "text/plain": [
       "0       0\n",
       "1       0\n",
       "2       0\n",
       "3       0\n",
       "4       0\n",
       "5       0\n",
       "6       0\n",
       "7       0\n",
       "8       0\n",
       "9       0\n",
       "10      0\n",
       "11      0\n",
       "12      0\n",
       "13      0\n",
       "14      0\n",
       "15      0\n",
       "16      0\n",
       "17      0\n",
       "18      0\n",
       "19      0\n",
       "20      0\n",
       "21      0\n",
       "22      0\n",
       "23      0\n",
       "24      0\n",
       "25      0\n",
       "26      0\n",
       "27      0\n",
       "28      0\n",
       "29      0\n",
       "       ..\n",
       "1698    0\n",
       "1699    3\n",
       "1700    2\n",
       "1701    0\n",
       "1702    0\n",
       "1703    0\n",
       "1704    0\n",
       "1705    0\n",
       "1706    0\n",
       "1707    0\n",
       "1708    0\n",
       "1709    0\n",
       "1710    0\n",
       "1711    1\n",
       "1712    3\n",
       "1713    0\n",
       "1714    3\n",
       "1715    2\n",
       "1716    0\n",
       "1717    3\n",
       "1718    2\n",
       "1719    0\n",
       "1720    1\n",
       "1721    3\n",
       "1722    0\n",
       "1723    3\n",
       "1724    2\n",
       "1725    0\n",
       "1726    3\n",
       "1727    2\n",
       "Name: recommend, Length: 1728, dtype: int64"
      ]
     },
     "execution_count": 68,
     "metadata": {},
     "output_type": "execute_result"
    }
   ],
   "source": [
    "cars.iloc[:,-1]"
   ]
  },
  {
   "cell_type": "code",
   "execution_count": null,
   "metadata": {},
   "outputs": [],
   "source": []
  },
  {
   "cell_type": "code",
   "execution_count": null,
   "metadata": {},
   "outputs": [],
   "source": []
  },
  {
   "cell_type": "code",
   "execution_count": null,
   "metadata": {},
   "outputs": [],
   "source": []
  }
 ],
 "metadata": {
  "kernelspec": {
   "display_name": "Python 3",
   "language": "python",
   "name": "python3"
  },
  "language_info": {
   "codemirror_mode": {
    "name": "ipython",
    "version": 3
   },
   "file_extension": ".py",
   "mimetype": "text/x-python",
   "name": "python",
   "nbconvert_exporter": "python",
   "pygments_lexer": "ipython3",
   "version": "3.6.5"
  }
 },
 "nbformat": 4,
 "nbformat_minor": 2
}
